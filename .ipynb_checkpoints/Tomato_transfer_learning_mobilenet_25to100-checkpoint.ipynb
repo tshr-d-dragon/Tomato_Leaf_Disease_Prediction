{
 "cells": [
  {
   "cell_type": "code",
   "execution_count": 1,
   "metadata": {
    "colab": {
     "base_uri": "https://localhost:8080/"
    },
    "id": "Co07L1R4Egz4",
    "outputId": "8d2dfd5f-3ea6-4860-88d7-84b6a9308287"
   },
   "outputs": [
    {
     "name": "stdout",
     "output_type": "stream",
     "text": [
      "Tue May  4 06:40:02 2021       \n",
      "+-----------------------------------------------------------------------------+\n",
      "| NVIDIA-SMI 465.19.01    Driver Version: 460.32.03    CUDA Version: 11.2     |\n",
      "|-------------------------------+----------------------+----------------------+\n",
      "| GPU  Name        Persistence-M| Bus-Id        Disp.A | Volatile Uncorr. ECC |\n",
      "| Fan  Temp  Perf  Pwr:Usage/Cap|         Memory-Usage | GPU-Util  Compute M. |\n",
      "|                               |                      |               MIG M. |\n",
      "|===============================+======================+======================|\n",
      "|   0  Tesla T4            Off  | 00000000:00:04.0 Off |                    0 |\n",
      "| N/A   41C    P8     9W /  70W |      0MiB / 15109MiB |      0%      Default |\n",
      "|                               |                      |                  N/A |\n",
      "+-------------------------------+----------------------+----------------------+\n",
      "                                                                               \n",
      "+-----------------------------------------------------------------------------+\n",
      "| Processes:                                                                  |\n",
      "|  GPU   GI   CI        PID   Type   Process name                  GPU Memory |\n",
      "|        ID   ID                                                   Usage      |\n",
      "|=============================================================================|\n",
      "|  No running processes found                                                 |\n",
      "+-----------------------------------------------------------------------------+\n"
     ]
    }
   ],
   "source": [
    "!nvidia-smi"
   ]
  },
  {
   "cell_type": "code",
   "execution_count": 2,
   "metadata": {
    "colab": {
     "base_uri": "https://localhost:8080/",
     "height": 143,
     "resources": {
      "http://localhost:8080/nbextensions/google.colab/files.js": {
       "data": "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",
       "headers": [
        [
         "content-type",
         "application/javascript"
        ]
       ],
       "ok": true,
       "status": 200,
       "status_text": ""
      }
     }
    },
    "id": "dJgQnc9NEgxl",
    "outputId": "814a2a40-261b-46ca-fd9b-401ccd7ebf10"
   },
   "outputs": [
    {
     "data": {
      "text/html": [
       "\n",
       "     <input type=\"file\" id=\"files-013c038a-f5f5-475e-bee3-efd9ac93e870\" name=\"files[]\" multiple disabled\n",
       "        style=\"border:none\" />\n",
       "     <output id=\"result-013c038a-f5f5-475e-bee3-efd9ac93e870\">\n",
       "      Upload widget is only available when the cell has been executed in the\n",
       "      current browser session. Please rerun this cell to enable.\n",
       "      </output>\n",
       "      <script src=\"/nbextensions/google.colab/files.js\"></script> "
      ],
      "text/plain": [
       "<IPython.core.display.HTML object>"
      ]
     },
     "metadata": {
      "tags": []
     },
     "output_type": "display_data"
    },
    {
     "name": "stdout",
     "output_type": "stream",
     "text": [
      "kaggle.json\n",
      "tomato.zip: Skipping, found more recently modified local copy (use --force to force download)\n",
      "replace New Plant Diseases Dataset(Augmented)/train/Tomato___Bacterial_spot/00416648-be6e-4bd4-bc8d-82f43f8a7240___GCREC_Bact.Sp 3110.JPG? [y]es, [n]o, [A]ll, [N]one, [r]ename: A\n",
      "A\n",
      "N\n"
     ]
    }
   ],
   "source": [
    "from google.colab import files\n",
    "files.upload() #upload kaggle.json\n",
    "!pip install -q kaggle\n",
    "!mkdir -p ~/.kaggle\n",
    "import time\n",
    "time.sleep(5)\n",
    "!cp kaggle.json ~/.kaggle/\n",
    "!ls ~/.kaggle\n",
    "!chmod 600 /root/.kaggle/kaggle.json\n",
    "\n",
    "!kaggle datasets download -d noulam/tomato\n",
    "!unzip -q /content/tomato.zip"
   ]
  },
  {
   "cell_type": "code",
   "execution_count": 3,
   "metadata": {
    "colab": {
     "base_uri": "https://localhost:8080/"
    },
    "id": "7VcXRrXSEgvE",
    "outputId": "81b395da-5c6b-4d1b-f5ab-a471f2c2c887"
   },
   "outputs": [
    {
     "name": "stdout",
     "output_type": "stream",
     "text": [
      "Mounted at /content/drive\n"
     ]
    }
   ],
   "source": [
    "from google.colab import drive\n",
    "drive.mount('/content/drive')"
   ]
  },
  {
   "cell_type": "code",
   "execution_count": null,
   "metadata": {
    "colab": {
     "base_uri": "https://localhost:8080/"
    },
    "id": "J2JJn_JqEgpr",
    "outputId": "542f83b1-8924-4b9f-9fe9-cbeeef47a760",
    "scrolled": false
   },
   "outputs": [
    {
     "name": "stdout",
     "output_type": "stream",
     "text": [
      "Found 18345 images belonging to 10 classes.\n",
      "Found 4585 images belonging to 10 classes.\n"
     ]
    },
    {
     "name": "stderr",
     "output_type": "stream",
     "text": [
      "/usr/local/lib/python3.7/dist-packages/tensorflow/python/keras/engine/training.py:1844: UserWarning: `Model.fit_generator` is deprecated and will be removed in a future version. Please use `Model.fit`, which supports generators.\n",
      "  warnings.warn('`Model.fit_generator` is deprecated and '\n"
     ]
    },
    {
     "name": "stdout",
     "output_type": "stream",
     "text": [
      "Epoch 1/75\n",
      "1147/1147 [==============================] - 222s 190ms/step - loss: 1.0551 - accuracy: 0.9729 - val_loss: 4.8534 - val_accuracy: 0.9213\n",
      "Epoch 2/75\n",
      "1147/1147 [==============================] - 215s 188ms/step - loss: 1.1861 - accuracy: 0.9687 - val_loss: 5.7076 - val_accuracy: 0.9195\n",
      "Epoch 3/75\n",
      "1147/1147 [==============================] - 216s 188ms/step - loss: 1.0592 - accuracy: 0.9758 - val_loss: 4.4755 - val_accuracy: 0.9309\n",
      "Epoch 4/75\n",
      "1147/1147 [==============================] - 214s 187ms/step - loss: 0.9990 - accuracy: 0.9751 - val_loss: 4.6236 - val_accuracy: 0.9272\n",
      "Epoch 5/75\n",
      "1147/1147 [==============================] - 214s 187ms/step - loss: 1.1383 - accuracy: 0.9729 - val_loss: 4.4848 - val_accuracy: 0.9304\n",
      "Epoch 6/75\n",
      "1147/1147 [==============================] - 212s 185ms/step - loss: 1.0202 - accuracy: 0.9732 - val_loss: 4.8067 - val_accuracy: 0.9317\n",
      "Epoch 7/75\n",
      "1147/1147 [==============================] - 213s 185ms/step - loss: 1.0747 - accuracy: 0.9732 - val_loss: 5.2448 - val_accuracy: 0.9256\n",
      "Epoch 8/75\n",
      "1147/1147 [==============================] - 213s 186ms/step - loss: 0.9104 - accuracy: 0.9765 - val_loss: 5.0588 - val_accuracy: 0.9230\n",
      "Epoch 9/75\n",
      "1147/1147 [==============================] - 213s 185ms/step - loss: 0.9836 - accuracy: 0.9763 - val_loss: 4.6484 - val_accuracy: 0.9326\n",
      "Epoch 10/75\n",
      "1147/1147 [==============================] - 210s 183ms/step - loss: 1.0335 - accuracy: 0.9751 - val_loss: 6.2019 - val_accuracy: 0.9182\n",
      "Epoch 11/75\n",
      "1147/1147 [==============================] - 212s 185ms/step - loss: 1.0596 - accuracy: 0.9750 - val_loss: 5.3929 - val_accuracy: 0.9276\n",
      "Epoch 12/75\n",
      "1147/1147 [==============================] - 211s 184ms/step - loss: 0.8136 - accuracy: 0.9812 - val_loss: 4.5586 - val_accuracy: 0.9335\n",
      "Epoch 13/75\n",
      "1147/1147 [==============================] - 210s 183ms/step - loss: 1.0585 - accuracy: 0.9763 - val_loss: 7.1689 - val_accuracy: 0.9082\n",
      "Epoch 14/75\n",
      "1147/1147 [==============================] - 210s 183ms/step - loss: 0.8932 - accuracy: 0.9737 - val_loss: 5.8308 - val_accuracy: 0.9195\n",
      "Epoch 15/75\n",
      "1147/1147 [==============================] - 210s 183ms/step - loss: 1.0721 - accuracy: 0.9752 - val_loss: 4.9009 - val_accuracy: 0.9304\n",
      "Epoch 16/75\n",
      "1147/1147 [==============================] - 210s 183ms/step - loss: 0.8766 - accuracy: 0.9786 - val_loss: 4.3836 - val_accuracy: 0.9433\n",
      "Epoch 17/75\n",
      "1147/1147 [==============================] - 209s 182ms/step - loss: 0.8919 - accuracy: 0.9799 - val_loss: 5.0882 - val_accuracy: 0.9324\n",
      "Epoch 18/75\n",
      "1147/1147 [==============================] - 206s 179ms/step - loss: 0.9224 - accuracy: 0.9787 - val_loss: 5.7688 - val_accuracy: 0.9289\n",
      "Epoch 19/75\n",
      "1147/1147 [==============================] - 212s 185ms/step - loss: 0.6732 - accuracy: 0.9837 - val_loss: 9.1286 - val_accuracy: 0.8947\n",
      "Epoch 20/75\n",
      "1147/1147 [==============================] - 216s 189ms/step - loss: 0.8294 - accuracy: 0.9796 - val_loss: 5.3898 - val_accuracy: 0.9339\n",
      "Epoch 21/75\n",
      "1147/1147 [==============================] - 217s 189ms/step - loss: 0.9634 - accuracy: 0.9791 - val_loss: 5.8509 - val_accuracy: 0.9274\n",
      "Epoch 22/75\n",
      "1147/1147 [==============================] - 212s 185ms/step - loss: 0.8202 - accuracy: 0.9812 - val_loss: 8.6291 - val_accuracy: 0.9021\n",
      "Epoch 23/75\n",
      "1147/1147 [==============================] - 212s 185ms/step - loss: 0.9900 - accuracy: 0.9778 - val_loss: 5.2871 - val_accuracy: 0.9330\n",
      "Epoch 24/75\n",
      "1147/1147 [==============================] - 212s 185ms/step - loss: 0.8529 - accuracy: 0.9832 - val_loss: 7.9624 - val_accuracy: 0.9099\n",
      "Epoch 25/75\n",
      "1147/1147 [==============================] - 210s 183ms/step - loss: 0.9415 - accuracy: 0.9802 - val_loss: 6.2958 - val_accuracy: 0.9267\n",
      "Epoch 26/75\n",
      "1147/1147 [==============================] - 212s 185ms/step - loss: 1.0057 - accuracy: 0.9782 - val_loss: 6.7947 - val_accuracy: 0.9232\n",
      "Epoch 27/75\n",
      "1147/1147 [==============================] - 215s 187ms/step - loss: 0.9397 - accuracy: 0.9779 - val_loss: 5.9523 - val_accuracy: 0.9282\n",
      "Epoch 28/75\n",
      "1147/1147 [==============================] - 215s 187ms/step - loss: 0.8225 - accuracy: 0.9813 - val_loss: 5.7064 - val_accuracy: 0.9298\n",
      "Epoch 29/75\n",
      "1147/1147 [==============================] - 214s 186ms/step - loss: 0.7355 - accuracy: 0.9824 - val_loss: 5.9619 - val_accuracy: 0.9302\n",
      "Epoch 30/75\n",
      "1147/1147 [==============================] - 214s 187ms/step - loss: 0.9607 - accuracy: 0.9815 - val_loss: 6.2436 - val_accuracy: 0.9285\n",
      "Epoch 31/75\n",
      "1147/1147 [==============================] - 212s 185ms/step - loss: 0.7174 - accuracy: 0.9841 - val_loss: 5.6607 - val_accuracy: 0.9337\n",
      "Epoch 32/75\n",
      "1147/1147 [==============================] - 210s 183ms/step - loss: 0.7961 - accuracy: 0.9823 - val_loss: 5.7866 - val_accuracy: 0.9304\n",
      "Epoch 33/75\n",
      "1147/1147 [==============================] - 213s 186ms/step - loss: 0.6654 - accuracy: 0.9840 - val_loss: 6.9501 - val_accuracy: 0.9232\n",
      "Epoch 34/75\n",
      "1147/1147 [==============================] - 211s 184ms/step - loss: 0.7979 - accuracy: 0.9822 - val_loss: 6.4816 - val_accuracy: 0.9232\n",
      "Epoch 35/75\n",
      "1147/1147 [==============================] - 213s 186ms/step - loss: 0.6573 - accuracy: 0.9838 - val_loss: 7.6241 - val_accuracy: 0.9208\n",
      "Epoch 36/75\n",
      "1147/1147 [==============================] - 212s 185ms/step - loss: 0.8217 - accuracy: 0.9818 - val_loss: 7.9788 - val_accuracy: 0.9189\n",
      "Epoch 37/75\n",
      "1147/1147 [==============================] - 215s 187ms/step - loss: 0.8077 - accuracy: 0.9811 - val_loss: 5.6092 - val_accuracy: 0.9352\n",
      "Epoch 38/75\n",
      "1147/1147 [==============================] - 213s 185ms/step - loss: 0.7662 - accuracy: 0.9843 - val_loss: 6.0766 - val_accuracy: 0.9315\n",
      "Epoch 39/75\n",
      "1147/1147 [==============================] - 211s 184ms/step - loss: 0.7602 - accuracy: 0.9839 - val_loss: 6.3659 - val_accuracy: 0.9324\n",
      "Epoch 40/75\n",
      "1147/1147 [==============================] - 211s 184ms/step - loss: 0.6714 - accuracy: 0.9868 - val_loss: 6.3051 - val_accuracy: 0.9282\n",
      "Epoch 41/75\n",
      "1147/1147 [==============================] - 210s 183ms/step - loss: 0.7044 - accuracy: 0.9835 - val_loss: 6.5150 - val_accuracy: 0.9252\n",
      "Epoch 42/75\n",
      "1147/1147 [==============================] - 210s 183ms/step - loss: 0.7881 - accuracy: 0.9833 - val_loss: 7.8493 - val_accuracy: 0.9154\n",
      "Epoch 43/75\n",
      "1147/1147 [==============================] - 209s 182ms/step - loss: 0.7610 - accuracy: 0.9850 - val_loss: 6.2681 - val_accuracy: 0.9313\n",
      "Epoch 44/75\n",
      "1147/1147 [==============================] - 209s 183ms/step - loss: 0.6464 - accuracy: 0.9861 - val_loss: 9.2713 - val_accuracy: 0.9097\n",
      "Epoch 45/75\n",
      "1147/1147 [==============================] - 209s 182ms/step - loss: 0.6041 - accuracy: 0.9853 - val_loss: 5.9905 - val_accuracy: 0.9374\n",
      "Epoch 46/75\n",
      "1147/1147 [==============================] - 208s 181ms/step - loss: 0.6496 - accuracy: 0.9866 - val_loss: 6.7772 - val_accuracy: 0.9309\n",
      "Epoch 47/75\n",
      "1147/1147 [==============================] - 207s 180ms/step - loss: 0.7914 - accuracy: 0.9843 - val_loss: 6.6437 - val_accuracy: 0.9293\n",
      "Epoch 48/75\n",
      "1147/1147 [==============================] - 207s 180ms/step - loss: 0.5850 - accuracy: 0.9870 - val_loss: 8.4635 - val_accuracy: 0.9210\n",
      "Epoch 49/75\n",
      "1147/1147 [==============================] - 211s 184ms/step - loss: 0.6306 - accuracy: 0.9850 - val_loss: 6.7326 - val_accuracy: 0.9337\n",
      "Epoch 50/75\n",
      "1147/1147 [==============================] - 208s 181ms/step - loss: 0.6954 - accuracy: 0.9854 - val_loss: 7.8713 - val_accuracy: 0.9217\n",
      "Epoch 51/75\n",
      "1147/1147 [==============================] - 210s 183ms/step - loss: 0.7592 - accuracy: 0.9850 - val_loss: 8.1661 - val_accuracy: 0.9252\n",
      "Epoch 52/75\n",
      "1147/1147 [==============================] - 210s 183ms/step - loss: 0.7809 - accuracy: 0.9852 - val_loss: 7.0426 - val_accuracy: 0.9298\n",
      "Epoch 53/75\n",
      "1147/1147 [==============================] - 208s 181ms/step - loss: 0.6673 - accuracy: 0.9860 - val_loss: 7.9908 - val_accuracy: 0.9239\n",
      "Epoch 54/75\n",
      "1147/1147 [==============================] - 206s 180ms/step - loss: 0.7101 - accuracy: 0.9830 - val_loss: 6.4037 - val_accuracy: 0.9352\n",
      "Epoch 55/75\n",
      "1147/1147 [==============================] - 206s 179ms/step - loss: 0.7299 - accuracy: 0.9842 - val_loss: 6.8897 - val_accuracy: 0.9346\n",
      "Epoch 56/75\n",
      "1147/1147 [==============================] - 206s 179ms/step - loss: 0.6071 - accuracy: 0.9879 - val_loss: 7.5137 - val_accuracy: 0.9278\n",
      "Epoch 57/75\n",
      "1147/1147 [==============================] - 206s 179ms/step - loss: 0.7155 - accuracy: 0.9858 - val_loss: 6.2861 - val_accuracy: 0.9389\n",
      "Epoch 58/75\n",
      "1147/1147 [==============================] - 206s 179ms/step - loss: 0.4898 - accuracy: 0.9887 - val_loss: 5.5450 - val_accuracy: 0.9433\n",
      "Epoch 59/75\n",
      "1147/1147 [==============================] - 205s 179ms/step - loss: 0.7396 - accuracy: 0.9856 - val_loss: 5.4455 - val_accuracy: 0.9411\n",
      "Epoch 60/75\n",
      "1147/1147 [==============================] - 205s 179ms/step - loss: 0.6916 - accuracy: 0.9878 - val_loss: 6.5866 - val_accuracy: 0.9372\n",
      "Epoch 61/75\n",
      "1147/1147 [==============================] - 205s 179ms/step - loss: 0.5761 - accuracy: 0.9866 - val_loss: 9.0792 - val_accuracy: 0.9193\n",
      "Epoch 62/75\n",
      "  82/1147 [=>............................] - ETA: 3:01 - loss: 1.0175 - accuracy: 0.9824"
     ]
    }
   ],
   "source": [
    "\n",
    "import keras\n",
    "from keras.layers import Input, Lambda, Dense, Flatten\n",
    "from keras.models import Model\n",
    "from keras.applications.mobilenet_v2 import MobileNetV2\n",
    "from keras.applications.mobilenet_v2 import preprocess_input\n",
    "from keras.preprocessing import image\n",
    "from keras.preprocessing.image import ImageDataGenerator\n",
    "from keras.models import Sequential\n",
    "import numpy as np\n",
    "from glob import glob\n",
    "import matplotlib.pyplot as plt\n",
    "\n",
    "# re-size all the images to this\n",
    "IMAGE_SIZE = [224, 224]\n",
    "\n",
    "# train_path = '/content/drive/My Drive/Eclipse/Train'\n",
    "# valid_path = '/content/drive/My Drive/Eclipse/Test'\n",
    "\n",
    "# add preprocessing layer to the front of VGG\n",
    "vgg = MobileNetV2(input_shape=IMAGE_SIZE + [3], weights='imagenet', include_top=False)\n",
    "\n",
    "# don't train existing weights\n",
    "for layer in vgg.layers:\n",
    "  layer.trainable = False\n",
    "\n",
    "\n",
    "  \n",
    "  # useful for getting number of classes\n",
    "folders = glob('/content/New Plant Diseases Dataset(Augmented)/train/*')\n",
    "  \n",
    "# our layers - you can add more if you want\n",
    "x = Flatten()(vgg.output)\n",
    "# x = Dense(1000, activation='relu')(x)\n",
    "prediction = Dense(len(folders), activation='softmax')(x)\n",
    "\n",
    "# create a model object\n",
    "model = Model(inputs=vgg.input, outputs=prediction)\n",
    "model.load_weights('/content/drive/MyDrive/Tomato_mobilenet_v2.h5')\n",
    "\n",
    "# view the structure of the model\n",
    "# model.summary()\n",
    "\n",
    "# tell the model what cost and optimization method to use\n",
    "model.compile(\n",
    "  loss='categorical_crossentropy',\n",
    "  optimizer='adam',\n",
    "  metrics=['accuracy']\n",
    ")\n",
    "\n",
    "\n",
    "from keras.preprocessing.image import ImageDataGenerator\n",
    "\n",
    "train_datagen = ImageDataGenerator(rescale = 1./255,\n",
    "                                   shear_range = 0.2,\n",
    "                                   zoom_range = 0.2,\n",
    "                                   horizontal_flip = True)\n",
    "\n",
    "valid_datagen = ImageDataGenerator(rescale = 1./255)\n",
    "\n",
    "training_set = train_datagen.flow_from_directory('/content/New Plant Diseases Dataset(Augmented)/train',\n",
    "                                                 target_size = (224, 224),\n",
    "                                                 batch_size = 16,\n",
    "                                                 class_mode = 'categorical')\n",
    "\n",
    "valid_set = valid_datagen.flow_from_directory('/content/New Plant Diseases Dataset(Augmented)/valid',\n",
    "                                            target_size = (224, 224),\n",
    "                                            batch_size = 16,\n",
    "                                            class_mode = 'categorical')\n",
    "\n",
    "'''r=model.fit_generator(training_set,\n",
    "                         samples_per_epoch = 8000,\n",
    "                         nb_epoch = 5,\n",
    "                         validation_data = test_set,\n",
    "                         nb_val_samples = 2000)'''\n",
    "\n",
    "# fit the model\n",
    "r1 = model.fit_generator(\n",
    "  training_set,\n",
    "  validation_data=valid_set,\n",
    "  epochs=75,\n",
    "  steps_per_epoch=len(training_set),\n",
    "  validation_steps=len(valid_set)\n",
    ")\n",
    "\n",
    "# loss\n",
    "plt.plot(r1.history['loss'], label='train loss')\n",
    "plt.plot(r1.history['val_loss'], label='val loss')\n",
    "plt.legend()\n",
    "plt.show()\n",
    "plt.savefig('LossVal_loss')\n",
    "\n",
    "# accuracies\n",
    "plt.plot(r1.history['accuracy'], label='train acc')\n",
    "plt.plot(r1.history['val_accuracy'], label='val acc')\n",
    "plt.legend()\n",
    "plt.show()\n",
    "plt.savefig('AccVal_acc')\n",
    "\n",
    "import tensorflow as tf\n",
    "from keras.models import load_model\n",
    "model.save('/content/drive/MyDrive/Tomato_mobilenet_v2_25to100.h5')\n",
    "\n",
    "# model.evaluate(pred, y_test, batch_size=16)"
   ]
  },
  {
   "cell_type": "code",
   "execution_count": null,
   "metadata": {
    "id": "cJlpQ_OeEgsR"
   },
   "outputs": [],
   "source": []
  },
  {
   "cell_type": "code",
   "execution_count": null,
   "metadata": {
    "id": "k4Z6eHVeEgna"
   },
   "outputs": [],
   "source": []
  },
  {
   "cell_type": "code",
   "execution_count": null,
   "metadata": {
    "id": "D31p-V_JEglP"
   },
   "outputs": [],
   "source": []
  },
  {
   "cell_type": "code",
   "execution_count": null,
   "metadata": {
    "id": "tMb2n_72Egix"
   },
   "outputs": [],
   "source": []
  },
  {
   "cell_type": "code",
   "execution_count": null,
   "metadata": {
    "id": "FEJptTnVEggk"
   },
   "outputs": [],
   "source": []
  },
  {
   "cell_type": "code",
   "execution_count": null,
   "metadata": {
    "id": "jj_nOuJGEgeF"
   },
   "outputs": [],
   "source": []
  },
  {
   "cell_type": "code",
   "execution_count": null,
   "metadata": {
    "id": "m3XMvFT-Egbl"
   },
   "outputs": [],
   "source": []
  },
  {
   "cell_type": "code",
   "execution_count": null,
   "metadata": {
    "id": "Wp9QOYtMEgY8"
   },
   "outputs": [],
   "source": []
  },
  {
   "cell_type": "code",
   "execution_count": null,
   "metadata": {
    "id": "Wz806HnOEgTG"
   },
   "outputs": [],
   "source": []
  }
 ],
 "metadata": {
  "accelerator": "GPU",
  "colab": {
   "collapsed_sections": [],
   "name": "Welcome To Colaboratory",
   "provenance": []
  },
  "kernelspec": {
   "display_name": "Python 3",
   "language": "python",
   "name": "python3"
  },
  "language_info": {
   "codemirror_mode": {
    "name": "ipython",
    "version": 3
   },
   "file_extension": ".py",
   "mimetype": "text/x-python",
   "name": "python",
   "nbconvert_exporter": "python",
   "pygments_lexer": "ipython3",
   "version": "3.8.3"
  }
 },
 "nbformat": 4,
 "nbformat_minor": 1
}
